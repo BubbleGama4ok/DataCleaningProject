{
 "cells": [
  {
   "cell_type": "code",
   "execution_count": null,
   "metadata": {},
   "outputs": [],
   "source": [
    "eterteryeyy"
   ]
  },
  {
   "cell_type": "markdown",
   "metadata": {},
   "source": [
    "ryeryery"
   ]
  },
  {
   "cell_type": "markdown",
   "metadata": {},
   "source": [
    "wqwe"
   ]
  }
 ],
 "metadata": {
  "language_info": {
   "name": "python"
  }
 },
 "nbformat": 4,
 "nbformat_minor": 2
}
