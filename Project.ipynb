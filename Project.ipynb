{
 "cells": [
  {
   "cell_type": "code",
   "execution_count": 108,
   "metadata": {},
   "outputs": [
    {
     "name": "stderr",
     "output_type": "stream",
     "text": [
      "C:\\Users\\evgen\\AppData\\Local\\Temp\\ipykernel_16428\\3167031464.py:7: DeprecationWarning: Importing display from IPython.core.display is deprecated since IPython 7.14, please import from IPython display\n",
      "  from IPython.core.display import display, HTML #\n"
     ]
    }
   ],
   "source": [
    "import pandas as pd\n",
    "import numpy as np\n",
    "import matplotlib.pyplot as plt\n",
    "import seaborn as sns\n",
    "import plotly\n",
    "import plotly.express as px\n",
    "from IPython.core.display import display, HTML #"
   ]
  },
  {
   "cell_type": "code",
   "execution_count": 86,
   "metadata": {},
   "outputs": [],
   "source": [
    "data = pd.read_csv('data/dst-3.0_16_1_hh_database.csv', sep=';')\n",
    "#data.head()"
   ]
  },
  {
   "cell_type": "code",
   "execution_count": 87,
   "metadata": {},
   "outputs": [
    {
     "name": "stdout",
     "output_type": "stream",
     "text": [
      "(44744, 12)\n"
     ]
    }
   ],
   "source": [
    "print(data.shape)"
   ]
  },
  {
   "cell_type": "code",
   "execution_count": 88,
   "metadata": {},
   "outputs": [
    {
     "name": "stdout",
     "output_type": "stream",
     "text": [
      "<class 'pandas.core.frame.DataFrame'>\n",
      "RangeIndex: 44744 entries, 0 to 44743\n",
      "Data columns (total 12 columns):\n",
      " #   Column                           Non-Null Count  Dtype \n",
      "---  ------                           --------------  ----- \n",
      " 0   Пол, возраст                     44744 non-null  object\n",
      " 1   ЗП                               44744 non-null  object\n",
      " 2   Ищет работу на должность:        44744 non-null  object\n",
      " 3   Город, переезд, командировки     44744 non-null  object\n",
      " 4   Занятость                        44744 non-null  object\n",
      " 5   График                           44744 non-null  object\n",
      " 6   Опыт работы                      44576 non-null  object\n",
      " 7   Последнее/нынешнее место работы  44743 non-null  object\n",
      " 8   Последняя/нынешняя должность     44742 non-null  object\n",
      " 9   Образование и ВУЗ                44744 non-null  object\n",
      " 10  Обновление резюме                44744 non-null  object\n",
      " 11  Авто                             44744 non-null  object\n",
      "dtypes: object(12)\n",
      "memory usage: 4.1+ MB\n"
     ]
    }
   ],
   "source": [
    "data.info()"
   ]
  },
  {
   "cell_type": "code",
   "execution_count": 89,
   "metadata": {},
   "outputs": [
    {
     "data": {
      "text/html": [
       "<div>\n",
       "<style scoped>\n",
       "    .dataframe tbody tr th:only-of-type {\n",
       "        vertical-align: middle;\n",
       "    }\n",
       "\n",
       "    .dataframe tbody tr th {\n",
       "        vertical-align: top;\n",
       "    }\n",
       "\n",
       "    .dataframe thead th {\n",
       "        text-align: right;\n",
       "    }\n",
       "</style>\n",
       "<table border=\"1\" class=\"dataframe\">\n",
       "  <thead>\n",
       "    <tr style=\"text-align: right;\">\n",
       "      <th></th>\n",
       "      <th>Пол, возраст</th>\n",
       "      <th>ЗП</th>\n",
       "      <th>Ищет работу на должность:</th>\n",
       "      <th>Город, переезд, командировки</th>\n",
       "      <th>Занятость</th>\n",
       "      <th>График</th>\n",
       "      <th>Опыт работы</th>\n",
       "      <th>Последнее/нынешнее место работы</th>\n",
       "      <th>Последняя/нынешняя должность</th>\n",
       "      <th>Образование и ВУЗ</th>\n",
       "      <th>Обновление резюме</th>\n",
       "      <th>Авто</th>\n",
       "    </tr>\n",
       "  </thead>\n",
       "  <tbody>\n",
       "    <tr>\n",
       "      <th>count</th>\n",
       "      <td>44744</td>\n",
       "      <td>44744</td>\n",
       "      <td>44744</td>\n",
       "      <td>44744</td>\n",
       "      <td>44744</td>\n",
       "      <td>44744</td>\n",
       "      <td>44576</td>\n",
       "      <td>44743</td>\n",
       "      <td>44742</td>\n",
       "      <td>44744</td>\n",
       "      <td>44744</td>\n",
       "      <td>44744</td>\n",
       "    </tr>\n",
       "    <tr>\n",
       "      <th>unique</th>\n",
       "      <td>16003</td>\n",
       "      <td>690</td>\n",
       "      <td>14929</td>\n",
       "      <td>10063</td>\n",
       "      <td>38</td>\n",
       "      <td>47</td>\n",
       "      <td>44413</td>\n",
       "      <td>30214</td>\n",
       "      <td>16927</td>\n",
       "      <td>40148</td>\n",
       "      <td>18838</td>\n",
       "      <td>2</td>\n",
       "    </tr>\n",
       "    <tr>\n",
       "      <th>top</th>\n",
       "      <td>Мужчина ,  32 года , родился 17 сентября 1986</td>\n",
       "      <td>50000 руб.</td>\n",
       "      <td>Системный администратор</td>\n",
       "      <td>Москва , не готов к переезду , не готов к кома...</td>\n",
       "      <td>полная занятость</td>\n",
       "      <td>полный день</td>\n",
       "      <td>Опыт работы 10 лет 8 месяцев  Апрель 2018 — по...</td>\n",
       "      <td>Индивидуальное предпринимательство / частная п...</td>\n",
       "      <td>Системный администратор</td>\n",
       "      <td>Высшее образование 1987 Военный инженерный Кра...</td>\n",
       "      <td>07.05.2019 09:50</td>\n",
       "      <td>Не указано</td>\n",
       "    </tr>\n",
       "    <tr>\n",
       "      <th>freq</th>\n",
       "      <td>18</td>\n",
       "      <td>4064</td>\n",
       "      <td>3099</td>\n",
       "      <td>1261</td>\n",
       "      <td>30026</td>\n",
       "      <td>22727</td>\n",
       "      <td>3</td>\n",
       "      <td>935</td>\n",
       "      <td>2062</td>\n",
       "      <td>4</td>\n",
       "      <td>25</td>\n",
       "      <td>32268</td>\n",
       "    </tr>\n",
       "  </tbody>\n",
       "</table>\n",
       "</div>"
      ],
      "text/plain": [
       "                                         Пол, возраст          ЗП  \\\n",
       "count                                           44744       44744   \n",
       "unique                                          16003         690   \n",
       "top     Мужчина ,  32 года , родился 17 сентября 1986  50000 руб.   \n",
       "freq                                               18        4064   \n",
       "\n",
       "       Ищет работу на должность:  \\\n",
       "count                      44744   \n",
       "unique                     14929   \n",
       "top      Системный администратор   \n",
       "freq                        3099   \n",
       "\n",
       "                             Город, переезд, командировки         Занятость  \\\n",
       "count                                               44744             44744   \n",
       "unique                                              10063                38   \n",
       "top     Москва , не готов к переезду , не готов к кома...  полная занятость   \n",
       "freq                                                 1261             30026   \n",
       "\n",
       "             График                                        Опыт работы  \\\n",
       "count         44744                                              44576   \n",
       "unique           47                                              44413   \n",
       "top     полный день  Опыт работы 10 лет 8 месяцев  Апрель 2018 — по...   \n",
       "freq          22727                                                  3   \n",
       "\n",
       "                          Последнее/нынешнее место работы  \\\n",
       "count                                               44743   \n",
       "unique                                              30214   \n",
       "top     Индивидуальное предпринимательство / частная п...   \n",
       "freq                                                  935   \n",
       "\n",
       "       Последняя/нынешняя должность  \\\n",
       "count                         44742   \n",
       "unique                        16927   \n",
       "top         Системный администратор   \n",
       "freq                           2062   \n",
       "\n",
       "                                        Образование и ВУЗ Обновление резюме  \\\n",
       "count                                               44744             44744   \n",
       "unique                                              40148             18838   \n",
       "top     Высшее образование 1987 Военный инженерный Кра...  07.05.2019 09:50   \n",
       "freq                                                    4                25   \n",
       "\n",
       "              Авто  \n",
       "count        44744  \n",
       "unique           2  \n",
       "top     Не указано  \n",
       "freq         32268  "
      ]
     },
     "metadata": {},
     "output_type": "display_data"
    }
   ],
   "source": [
    "display(data.describe())"
   ]
  },
  {
   "cell_type": "code",
   "execution_count": 90,
   "metadata": {},
   "outputs": [
    {
     "data": {
      "text/plain": [
       "Город, переезд, командировки\n",
       "Москва , не готов к переезду , не готов к командировкам                                                                        1261\n",
       "Москва , готов к переезду , готов к командировкам                                                                               904\n",
       "Москва , не готов к переезду , готов к командировкам                                                                            877\n",
       "Москва , не готов к переезду , готов к редким командировкам                                                                     604\n",
       "Санкт-Петербург , не готов к переезду , не готов к командировкам                                                                453\n",
       "                                                                                                                               ... \n",
       "Нижний Тагил , хочу переехать (Севастополь, Екатеринбург, Горячий Ключ, Джубга, Нижний Тагил, Сочи) , готов к командировкам       1\n",
       "Москва ,  м. Комсомольская , готова к переезду (Санкт-Петербург, Барнаул) , готова к командировкам                                1\n",
       "Октябрьский , не готова к переезду , не готова к командировкам                                                                    1\n",
       "Москва , готов к переезду (Москва, Россия) , готов к командировкам                                                                1\n",
       "Новополоцк , готов к переезду , готов к командировкам                                                                             1\n",
       "Name: count, Length: 10063, dtype: int64"
      ]
     },
     "execution_count": 90,
     "metadata": {},
     "output_type": "execute_result"
    }
   ],
   "source": [
    "data['Город, переезд, командировки'].value_counts()"
   ]
  },
  {
   "cell_type": "code",
   "execution_count": 91,
   "metadata": {},
   "outputs": [
    {
     "data": {
      "text/plain": [
       "Последнее/нынешнее место работы\n",
       "Индивидуальное предпринимательство / частная практика / фриланс    935\n",
       "Ростелеком                                                         483\n",
       "Сбербанк                                                           406\n",
       "Мобильные ТелеСистемы (МТС)                                        204\n",
       "МАГНИТ, Розничная сеть                                             177\n",
       "                                                                  ... \n",
       "ООО ОС-Технолоджи                                                    1\n",
       "Воронежский государственный технический университет                  1\n",
       "АО \"Камов\"                                                           1\n",
       "Nethouse                                                             1\n",
       "ПАО ГК ТНС энерго                                                    1\n",
       "Name: count, Length: 30214, dtype: int64"
      ]
     },
     "execution_count": 91,
     "metadata": {},
     "output_type": "execute_result"
    }
   ],
   "source": [
    "data['Последнее/нынешнее место работы'].value_counts()"
   ]
  },
  {
   "cell_type": "code",
   "execution_count": 92,
   "metadata": {},
   "outputs": [
    {
     "name": "stdout",
     "output_type": "stream",
     "text": [
      "Список категорий \"Образование\": ['неоконченное высшее' 'высшее' 'среднее специальное' 'среднее']\n",
      "Преобразование выполнено. Признак \"Образование и ВУЗ\" удален! ✔\n"
     ]
    }
   ],
   "source": [
    "def edu (string):\n",
    "    \"\"\" \n",
    "    edu(string)\n",
    "    Преобразование признака \"Образование и ВУЗ\". \n",
    "    Разделяем строку по пробелам и проверяем первый элемент. Если это 'образование' — возвращаем нулевой элемент, \n",
    "    если нет — сумму нулевого и первого. \n",
    "    Args:\n",
    "        string (str): Строка признака.\n",
    "    Returns:\n",
    "        str: Значение признака в формате ['неоконченное высшее' 'высшее' 'среднее специальное' 'среднее']\n",
    "    \"\"\"\n",
    "    if string.split()[1] == 'образование':\n",
    "        return string.split()[0].lower()\n",
    "    else: \n",
    "        return (string.split()[0] + ' ' + string.split()[1]).lower()\n",
    "\n",
    "# Преобразование признака\n",
    "data['Образование'] = data['Образование и ВУЗ'].apply(edu)\n",
    "print(f'Список категорий \"Образование\": {data.iloc[: , 12].unique()}')\n",
    "\n",
    "# Удаляем признак \"Образование и ВУЗ\"\n",
    "data= data.drop(['Образование и ВУЗ'], axis = 1)\n",
    "print ('Преобразование выполнено. Признак \"Образование и ВУЗ\" удален! ✔')\n"
   ]
  },
  {
   "cell_type": "code",
   "execution_count": 93,
   "metadata": {},
   "outputs": [
    {
     "data": {
      "text/plain": [
       "Образование\n",
       "высшее                 33863\n",
       "среднее специальное     5765\n",
       "неоконченное высшее     4557\n",
       "среднее                  559\n",
       "Name: count, dtype: int64"
      ]
     },
     "execution_count": 93,
     "metadata": {},
     "output_type": "execute_result"
    }
   ],
   "source": [
    "data['Образование'].value_counts()"
   ]
  },
  {
   "cell_type": "code",
   "execution_count": 94,
   "metadata": {},
   "outputs": [],
   "source": [
    "#создание признака пола\n",
    "data['Пол'] = data['Пол, возраст'].apply(lambda gender: 'M' if gender.split(',')[0] == 'Мужчина ' else 'Ж')\n",
    "\n",
    "#создание признака возраста\n",
    "data['Возраст'] = data['Пол, возраст'].apply(lambda age: int((age.split(',')[1]).split()[0]))\n",
    "\n",
    "#удалить признак \"Пол, воозраст\"\n",
    "data = data.drop(['Пол, возраст'], axis = 1)"
   ]
  },
  {
   "cell_type": "code",
   "execution_count": 95,
   "metadata": {},
   "outputs": [
    {
     "data": {
      "text/plain": [
       "Пол\n",
       "M    0.809293\n",
       "Ж    0.190707\n",
       "Name: proportion, dtype: float64"
      ]
     },
     "execution_count": 95,
     "metadata": {},
     "output_type": "execute_result"
    }
   ],
   "source": [
    "data['Пол'].value_counts(normalize=True)\n"
   ]
  },
  {
   "cell_type": "code",
   "execution_count": 96,
   "metadata": {},
   "outputs": [
    {
     "data": {
      "text/html": [
       "<div>\n",
       "<style scoped>\n",
       "    .dataframe tbody tr th:only-of-type {\n",
       "        vertical-align: middle;\n",
       "    }\n",
       "\n",
       "    .dataframe tbody tr th {\n",
       "        vertical-align: top;\n",
       "    }\n",
       "\n",
       "    .dataframe thead th {\n",
       "        text-align: right;\n",
       "    }\n",
       "</style>\n",
       "<table border=\"1\" class=\"dataframe\">\n",
       "  <thead>\n",
       "    <tr style=\"text-align: right;\">\n",
       "      <th></th>\n",
       "      <th>Возраст</th>\n",
       "    </tr>\n",
       "  </thead>\n",
       "  <tbody>\n",
       "    <tr>\n",
       "      <th>count</th>\n",
       "      <td>44744.000000</td>\n",
       "    </tr>\n",
       "    <tr>\n",
       "      <th>mean</th>\n",
       "      <td>32.196741</td>\n",
       "    </tr>\n",
       "    <tr>\n",
       "      <th>std</th>\n",
       "      <td>7.929800</td>\n",
       "    </tr>\n",
       "    <tr>\n",
       "      <th>min</th>\n",
       "      <td>14.000000</td>\n",
       "    </tr>\n",
       "    <tr>\n",
       "      <th>25%</th>\n",
       "      <td>27.000000</td>\n",
       "    </tr>\n",
       "    <tr>\n",
       "      <th>50%</th>\n",
       "      <td>31.000000</td>\n",
       "    </tr>\n",
       "    <tr>\n",
       "      <th>75%</th>\n",
       "      <td>36.000000</td>\n",
       "    </tr>\n",
       "    <tr>\n",
       "      <th>max</th>\n",
       "      <td>100.000000</td>\n",
       "    </tr>\n",
       "  </tbody>\n",
       "</table>\n",
       "</div>"
      ],
      "text/plain": [
       "            Возраст\n",
       "count  44744.000000\n",
       "mean      32.196741\n",
       "std        7.929800\n",
       "min       14.000000\n",
       "25%       27.000000\n",
       "50%       31.000000\n",
       "75%       36.000000\n",
       "max      100.000000"
      ]
     },
     "execution_count": 96,
     "metadata": {},
     "output_type": "execute_result"
    }
   ],
   "source": [
    "data.describe()"
   ]
  },
  {
   "cell_type": "code",
   "execution_count": 97,
   "metadata": {},
   "outputs": [],
   "source": [
    "def get_experience(arg):\n",
    "    month_key_words = ['месяц', 'месяцев', 'месяца']\n",
    "    year_key_words = ['год', 'лет', 'года']\n",
    "    args_splited = arg.split(' ')\n",
    "    month = 0\n",
    "    year = 0\n",
    "    for i in range(len(args_splited)):\n",
    "        if args_splited[i] in month_key_words:\n",
    "            month = args_splited[i-1]\n",
    "        if args_splited[i] in year_key_words:\n",
    "            year = args_splited[i-1]\n",
    "    return int(year)*12 + int(month)"
   ]
  },
  {
   "cell_type": "code",
   "execution_count": 98,
   "metadata": {},
   "outputs": [
    {
     "data": {
      "text/plain": [
       "Опыт работы\n",
       "False    44576\n",
       "True       168\n",
       "Name: count, dtype: int64"
      ]
     },
     "metadata": {},
     "output_type": "display_data"
    }
   ],
   "source": [
    "display(data['Опыт работы'].isnull().value_counts())\n"
   ]
  },
  {
   "cell_type": "code",
   "execution_count": 99,
   "metadata": {},
   "outputs": [
    {
     "name": "stdout",
     "output_type": "stream",
     "text": [
      "Преобразование выполнено. Признак \"Опыт работы\" удален! ✔\n"
     ]
    }
   ],
   "source": [
    "\n",
    "def experience(string):\n",
    "    \"\"\" \n",
    "    experience(string)\n",
    "    Преобразование признака \"Опыт работы\". \n",
    "    Разделяем строку по пробелам и проверяем третий и пятый элементы. В зависимости от того, где расположен слово 'месяц\\а\\ев', \n",
    "    возвращаем второй и четвертый элементы в разных комбинациях. В случае отсутствия информации об опыте работы возвращаем 'Не указано'\n",
    "    Args:\n",
    "        string (str): Строка признака.\n",
    "    Returns:\n",
    "        int: Опыт работы в месяцах\n",
    "        str: 'Не указано'\n",
    "    \"\"\"\n",
    "    \n",
    "    if string is np.NaN or string == 'Не указано':\n",
    "        return np.NaN\n",
    "    \n",
    "    else:\n",
    "        if string.split()[3] in ['месяц', 'месяца', 'месяцев']:\n",
    "            result = int(string.split()[2])\n",
    "            \n",
    "        elif string.split()[5] not in ['месяц', 'месяца', 'месяцев']:\n",
    "            result = int(string.split()[2])*12\n",
    "            \n",
    "        else:\n",
    "            result = int(string.split()[2])*12 + int(string.split()[4])\n",
    "           \n",
    "    return result\n",
    "\n",
    "# Применение функции experience(string) к признаку \"Опыт работы\", создание нового признака\n",
    "data['Опыт работы (месяц)'] = data['Опыт работы'].apply(experience)\n",
    "\n",
    "# Удаляем признак \"Опыт работы\"\n",
    "data = data.drop(['Опыт работы'], axis = 1)\n",
    "print ('Преобразование выполнено. Признак \"Опыт работы\" удален! ✔')"
   ]
  },
  {
   "cell_type": "code",
   "execution_count": 100,
   "metadata": {},
   "outputs": [
    {
     "data": {
      "text/plain": [
       "100.0"
      ]
     },
     "execution_count": 100,
     "metadata": {},
     "output_type": "execute_result"
    }
   ],
   "source": [
    "data['Опыт работы (месяц)'].median()"
   ]
  },
  {
   "cell_type": "code",
   "execution_count": 101,
   "metadata": {},
   "outputs": [
    {
     "name": "stdout",
     "output_type": "stream",
     "text": [
      "32\n"
     ]
    }
   ],
   "source": [
    "def city(string):\n",
    "    million_cities = ['Новосибирск', 'Екатеринбург', 'Нижний Новгород',\n",
    "                      'Казань', 'Челябинск', 'Омск', 'Самара', 'Ростов-на-Дону',\n",
    "                      'Уфа', 'Красноярск', 'Пермь', 'Воронеж', 'Волгоград' \n",
    "                      ]\n",
    "    city_name = string.split(',')[0][:-1]\n",
    "    \n",
    "    if city_name in ['Москва', 'Санкт-Петербург']:\n",
    "        return city_name\n",
    "    \n",
    "    elif city_name in million_cities :\n",
    "        return 'город-миллионник'\n",
    "    \n",
    "    else:\n",
    "        return 'другие'\n",
    "\n",
    "def moving(string):\n",
    "    #mov_words = ['готов','готова','переехать','переезду']\n",
    "    #moving_name = string.split(',')[1].split()\n",
    "    #moving_name2 = string.split(',')[2].split()\n",
    "    #for i in mov_words:\n",
    "    if ('не готов к переезду' in string) or ('не готова к переезду' in string):\n",
    "        return False\n",
    "    else:\n",
    "        return True \n",
    "\n",
    "def bistrips(string):\n",
    "    #trip_words = ['готов','готова','командировкам']\n",
    "    #a = string.split(',')\n",
    "    #index = len(a) - 1\n",
    "    if ('командировка' in string):\n",
    "        if ('не готов к командировкам' in string) or ('не готова к командировкам' in string):\n",
    "            return False\n",
    "        else:\n",
    "            return True\n",
    "    else:\n",
    "        return False\n",
    "\n",
    "data['Город'] = data['Город, переезд, командировки'].apply(city)\n",
    "data['Готовность_к_переезду'] = data['Город, переезд, командировки'].apply(moving)\n",
    "data['Готовность_к_командировкам'] = data['Город, переезд, командировки'].apply(bistrips)\n",
    "data = data.drop('Город, переезд, командировки', axis=1)    \n",
    "print(round(data[data['Готовность_к_переезду'] & data['Готовность_к_командировкам']\n",
    "].shape[0] / data.shape[0] *100))"
   ]
  },
  {
   "cell_type": "code",
   "execution_count": 104,
   "metadata": {},
   "outputs": [
    {
     "name": "stdout",
     "output_type": "stream",
     "text": [
      "436\n",
      "2311\n"
     ]
    }
   ],
   "source": [
    "employments = ['полная занятость', 'частичная занятость',\n",
    "              'проектная работа', 'волонтерство', 'стажировка']\n",
    "charts = ['полный день', 'сменный график', \n",
    "         'гибкий график', 'удаленная работа',\n",
    "         'вахтовый метод']\n",
    "for employment, chart in zip(employments, charts):\n",
    "    data[employment] = data['Занятость'].apply(lambda x: employment in x)\n",
    "    data[chart] = data['График'].apply(lambda x: chart in x)\n",
    "\n",
    "print(data[data['проектная работа'] & data['волонтерство']].shape[0])\n",
    "print(data[data['вахтовый метод'] & data['гибкий график']].shape[0])\n",
    "#busy_list = list (set (data['Занятость'].sum()))\n",
    "#schedule_list = list (set (data['График'].sum()))\n",
    "#employment1 = list (set (data['Занятость2'].sum()))\n",
    "#chart1 = list (set (data['График2'].sum()))"
   ]
  },
  {
   "cell_type": "code",
   "execution_count": 107,
   "metadata": {},
   "outputs": [
    {
     "ename": "NameError",
     "evalue": "name 'HTML' is not defined",
     "output_type": "error",
     "traceback": [
      "\u001b[1;31m---------------------------------------------------------------------------\u001b[0m",
      "\u001b[1;31mNameError\u001b[0m                                 Traceback (most recent call last)",
      "Cell \u001b[1;32mIn[107], line 2\u001b[0m\n\u001b[0;32m      1\u001b[0m \u001b[38;5;66;03m# Ссылка на файл с данными\u001b[39;00m\n\u001b[1;32m----> 2\u001b[0m display(\u001b[43mHTML\u001b[49m(\u001b[38;5;124m\"\"\"\u001b[39m\u001b[38;5;124m<a href=\u001b[39m\u001b[38;5;124m\"\u001b[39m\u001b[38;5;124mhttps://drive.google.com/file/d/1B2o74P-ScqCo7zHp3pPV1u-m5CEKawLV/view?usp=sharing\u001b[39m\u001b[38;5;124m\"\u001b[39m\u001b[38;5;124m>Исходный dataframe ExchangeRates.csv\u001b[39m\u001b[38;5;124m\"\"\"\u001b[39m))\n\u001b[0;32m      4\u001b[0m \u001b[38;5;66;03m# Преобразование таблицы с курсами валют, удаление лишних столбцов, изменение формата данных признака date\u001b[39;00m\n\u001b[0;32m      5\u001b[0m money \u001b[38;5;241m=\u001b[39m pd\u001b[38;5;241m.\u001b[39mread_csv(\u001b[38;5;124m'\u001b[39m\u001b[38;5;124mExchangeRates.csv\u001b[39m\u001b[38;5;124m'\u001b[39m, sep \u001b[38;5;241m=\u001b[39m \u001b[38;5;124m'\u001b[39m\u001b[38;5;124m,\u001b[39m\u001b[38;5;124m'\u001b[39m)\n",
      "\u001b[1;31mNameError\u001b[0m: name 'HTML' is not defined"
     ]
    }
   ],
   "source": [
    "# Ссылка на файл с данными\n",
    "display(HTML(\"\"\"<a href=\"https://drive.google.com/file/d/1B2o74P-ScqCo7zHp3pPV1u-m5CEKawLV/view?usp=sharing\">Исходный dataframe ExchangeRates.csv\"\"\"))\n",
    "\n",
    "# Преобразование таблицы с курсами валют, удаление лишних столбцов, изменение формата данных признака date\n",
    "money = pd.read_csv('ExchangeRates.csv', sep = ',')\n",
    "money['date'] = pd.to_datetime(money['date'])\n",
    "money = money.drop(['per', 'time', 'vol'], axis = 1)\n",
    "\n",
    "display (money)"
   ]
  },
  {
   "cell_type": "code",
   "execution_count": 106,
   "metadata": {},
   "outputs": [
    {
     "data": {
      "text/html": [
       "<div>\n",
       "<style scoped>\n",
       "    .dataframe tbody tr th:only-of-type {\n",
       "        vertical-align: middle;\n",
       "    }\n",
       "\n",
       "    .dataframe tbody tr th {\n",
       "        vertical-align: top;\n",
       "    }\n",
       "\n",
       "    .dataframe thead th {\n",
       "        text-align: right;\n",
       "    }\n",
       "</style>\n",
       "<table border=\"1\" class=\"dataframe\">\n",
       "  <thead>\n",
       "    <tr style=\"text-align: right;\">\n",
       "      <th></th>\n",
       "      <th>ЗП</th>\n",
       "      <th>Ищет работу на должность:</th>\n",
       "      <th>Занятость</th>\n",
       "      <th>График</th>\n",
       "      <th>Последнее/нынешнее место работы</th>\n",
       "      <th>Последняя/нынешняя должность</th>\n",
       "      <th>Обновление резюме</th>\n",
       "      <th>Авто</th>\n",
       "      <th>Образование</th>\n",
       "      <th>Пол</th>\n",
       "      <th>...</th>\n",
       "      <th>полная занятость</th>\n",
       "      <th>полный день</th>\n",
       "      <th>частичная занятость</th>\n",
       "      <th>сменный график</th>\n",
       "      <th>проектная работа</th>\n",
       "      <th>гибкий график</th>\n",
       "      <th>волонтерство</th>\n",
       "      <th>удаленная работа</th>\n",
       "      <th>стажировка</th>\n",
       "      <th>вахтовый метод</th>\n",
       "    </tr>\n",
       "  </thead>\n",
       "  <tbody>\n",
       "    <tr>\n",
       "      <th>0</th>\n",
       "      <td>29000 руб.</td>\n",
       "      <td>Системный администратор</td>\n",
       "      <td>частичная занятость, проектная работа, полная ...</td>\n",
       "      <td>гибкий график, полный день, сменный график, ва...</td>\n",
       "      <td>МАОУ \"СОШ № 1 г.Немана\"</td>\n",
       "      <td>Системный администратор</td>\n",
       "      <td>16.04.2019 15:59</td>\n",
       "      <td>Имеется собственный автомобиль</td>\n",
       "      <td>неоконченное высшее</td>\n",
       "      <td>M</td>\n",
       "      <td>...</td>\n",
       "      <td>True</td>\n",
       "      <td>True</td>\n",
       "      <td>True</td>\n",
       "      <td>True</td>\n",
       "      <td>True</td>\n",
       "      <td>True</td>\n",
       "      <td>False</td>\n",
       "      <td>True</td>\n",
       "      <td>False</td>\n",
       "      <td>True</td>\n",
       "    </tr>\n",
       "    <tr>\n",
       "      <th>1</th>\n",
       "      <td>40000 руб.</td>\n",
       "      <td>Технический писатель</td>\n",
       "      <td>частичная занятость, проектная работа, полная ...</td>\n",
       "      <td>гибкий график, полный день, сменный график, уд...</td>\n",
       "      <td>Временный трудовой коллектив</td>\n",
       "      <td>Менеджер проекта, Аналитик, Технический писатель</td>\n",
       "      <td>12.04.2019 08:42</td>\n",
       "      <td>Не указано</td>\n",
       "      <td>высшее</td>\n",
       "      <td>M</td>\n",
       "      <td>...</td>\n",
       "      <td>True</td>\n",
       "      <td>True</td>\n",
       "      <td>True</td>\n",
       "      <td>True</td>\n",
       "      <td>True</td>\n",
       "      <td>True</td>\n",
       "      <td>False</td>\n",
       "      <td>True</td>\n",
       "      <td>False</td>\n",
       "      <td>False</td>\n",
       "    </tr>\n",
       "    <tr>\n",
       "      <th>2</th>\n",
       "      <td>20000 руб.</td>\n",
       "      <td>Оператор</td>\n",
       "      <td>полная занятость</td>\n",
       "      <td>полный день</td>\n",
       "      <td>ПАО Сбербанк</td>\n",
       "      <td>Кассир-операционист</td>\n",
       "      <td>16.04.2019 08:35</td>\n",
       "      <td>Не указано</td>\n",
       "      <td>среднее специальное</td>\n",
       "      <td>Ж</td>\n",
       "      <td>...</td>\n",
       "      <td>True</td>\n",
       "      <td>True</td>\n",
       "      <td>False</td>\n",
       "      <td>False</td>\n",
       "      <td>False</td>\n",
       "      <td>False</td>\n",
       "      <td>False</td>\n",
       "      <td>False</td>\n",
       "      <td>False</td>\n",
       "      <td>False</td>\n",
       "    </tr>\n",
       "    <tr>\n",
       "      <th>3</th>\n",
       "      <td>100000 руб.</td>\n",
       "      <td>Веб-разработчик (HTML / CSS / JS / PHP / базы ...</td>\n",
       "      <td>частичная занятость, проектная работа, полная ...</td>\n",
       "      <td>гибкий график, удаленная работа</td>\n",
       "      <td>OpenSoft</td>\n",
       "      <td>Инженер-программист</td>\n",
       "      <td>08.04.2019 14:23</td>\n",
       "      <td>Не указано</td>\n",
       "      <td>высшее</td>\n",
       "      <td>M</td>\n",
       "      <td>...</td>\n",
       "      <td>True</td>\n",
       "      <td>False</td>\n",
       "      <td>True</td>\n",
       "      <td>False</td>\n",
       "      <td>True</td>\n",
       "      <td>True</td>\n",
       "      <td>False</td>\n",
       "      <td>True</td>\n",
       "      <td>False</td>\n",
       "      <td>False</td>\n",
       "    </tr>\n",
       "    <tr>\n",
       "      <th>4</th>\n",
       "      <td>140000 руб.</td>\n",
       "      <td>Региональный менеджер по продажам</td>\n",
       "      <td>полная занятость</td>\n",
       "      <td>полный день</td>\n",
       "      <td>Мармелад</td>\n",
       "      <td>Менеджер по продажам</td>\n",
       "      <td>22.04.2019 10:32</td>\n",
       "      <td>Не указано</td>\n",
       "      <td>высшее</td>\n",
       "      <td>Ж</td>\n",
       "      <td>...</td>\n",
       "      <td>True</td>\n",
       "      <td>True</td>\n",
       "      <td>False</td>\n",
       "      <td>False</td>\n",
       "      <td>False</td>\n",
       "      <td>False</td>\n",
       "      <td>False</td>\n",
       "      <td>False</td>\n",
       "      <td>False</td>\n",
       "      <td>False</td>\n",
       "    </tr>\n",
       "  </tbody>\n",
       "</table>\n",
       "<p>5 rows × 27 columns</p>\n",
       "</div>"
      ],
      "text/plain": [
       "            ЗП                          Ищет работу на должность:  \\\n",
       "0   29000 руб.                            Системный администратор   \n",
       "1   40000 руб.                               Технический писатель   \n",
       "2   20000 руб.                                           Оператор   \n",
       "3  100000 руб.  Веб-разработчик (HTML / CSS / JS / PHP / базы ...   \n",
       "4  140000 руб.                  Региональный менеджер по продажам   \n",
       "\n",
       "                                           Занятость  \\\n",
       "0  частичная занятость, проектная работа, полная ...   \n",
       "1  частичная занятость, проектная работа, полная ...   \n",
       "2                                   полная занятость   \n",
       "3  частичная занятость, проектная работа, полная ...   \n",
       "4                                   полная занятость   \n",
       "\n",
       "                                              График  \\\n",
       "0  гибкий график, полный день, сменный график, ва...   \n",
       "1  гибкий график, полный день, сменный график, уд...   \n",
       "2                                        полный день   \n",
       "3                    гибкий график, удаленная работа   \n",
       "4                                        полный день   \n",
       "\n",
       "  Последнее/нынешнее место работы  \\\n",
       "0         МАОУ \"СОШ № 1 г.Немана\"   \n",
       "1    Временный трудовой коллектив   \n",
       "2                    ПАО Сбербанк   \n",
       "3                        OpenSoft   \n",
       "4                        Мармелад   \n",
       "\n",
       "                       Последняя/нынешняя должность Обновление резюме  \\\n",
       "0                           Системный администратор  16.04.2019 15:59   \n",
       "1  Менеджер проекта, Аналитик, Технический писатель  12.04.2019 08:42   \n",
       "2                               Кассир-операционист  16.04.2019 08:35   \n",
       "3                               Инженер-программист  08.04.2019 14:23   \n",
       "4                              Менеджер по продажам  22.04.2019 10:32   \n",
       "\n",
       "                             Авто          Образование Пол  ...  \\\n",
       "0  Имеется собственный автомобиль  неоконченное высшее   M  ...   \n",
       "1                      Не указано               высшее   M  ...   \n",
       "2                      Не указано  среднее специальное   Ж  ...   \n",
       "3                      Не указано               высшее   M  ...   \n",
       "4                      Не указано               высшее   Ж  ...   \n",
       "\n",
       "   полная занятость  полный день частичная занятость  сменный график  \\\n",
       "0              True         True                True            True   \n",
       "1              True         True                True            True   \n",
       "2              True         True               False           False   \n",
       "3              True        False                True           False   \n",
       "4              True         True               False           False   \n",
       "\n",
       "   проектная работа гибкий график волонтерство  удаленная работа  стажировка  \\\n",
       "0              True          True        False              True       False   \n",
       "1              True          True        False              True       False   \n",
       "2             False         False        False             False       False   \n",
       "3              True          True        False              True       False   \n",
       "4             False         False        False             False       False   \n",
       "\n",
       "   вахтовый метод  \n",
       "0            True  \n",
       "1           False  \n",
       "2           False  \n",
       "3           False  \n",
       "4           False  \n",
       "\n",
       "[5 rows x 27 columns]"
      ]
     },
     "execution_count": 106,
     "metadata": {},
     "output_type": "execute_result"
    }
   ],
   "source": [
    "data.head()"
   ]
  }
 ],
 "metadata": {
  "kernelspec": {
   "display_name": "Python 3",
   "language": "python",
   "name": "python3"
  },
  "language_info": {
   "codemirror_mode": {
    "name": "ipython",
    "version": 3
   },
   "file_extension": ".py",
   "mimetype": "text/x-python",
   "name": "python",
   "nbconvert_exporter": "python",
   "pygments_lexer": "ipython3",
   "version": "3.9.10"
  }
 },
 "nbformat": 4,
 "nbformat_minor": 2
}
